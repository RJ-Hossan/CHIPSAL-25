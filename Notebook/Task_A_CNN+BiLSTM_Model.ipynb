{
 "cells": [
  {
   "cell_type": "code",
   "execution_count": 3,
   "metadata": {
    "_cell_guid": "b1076dfc-b9ad-4769-8c92-a6c4dae69d19",
    "_uuid": "8f2839f25d086af736a60e9eeb907d3b93b6e0e5",
    "execution": {
     "iopub.execute_input": "2024-11-09T05:29:58.235909Z",
     "iopub.status.busy": "2024-11-09T05:29:58.235154Z",
     "iopub.status.idle": "2024-11-09T05:29:58.254045Z",
     "shell.execute_reply": "2024-11-09T05:29:58.253067Z",
     "shell.execute_reply.started": "2024-11-09T05:29:58.235829Z"
    },
    "trusted": true
   },
   "outputs": [
    {
     "name": "stdout",
     "output_type": "stream",
     "text": [
      "/kaggle/input/chipsal-2025-t1/Task-A(indextext)test.csv\n",
      "/kaggle/input/chipsal-2025-t1/Task-A(indextext)val.csv\n",
      "/kaggle/input/chipsal-2025-t1/SubTask-A-train.csv\n",
      "/kaggle/input/chipsal-2025-t1/submission_CNN_BiLSTM.json\n",
      "/kaggle/input/chipsal-2025-t1/Task-A(indexlabel)val.csv\n",
      "/kaggle/input/chipsal-2025-t1/Task-A(indexlabel)test.csv\n",
      "/kaggle/input/chipsal-2025-t1/stopwords-hi.json\n"
     ]
    }
   ],
   "source": [
    "import os\n",
    "for dirname, _, filenames in os.walk('/kaggle/input'):\n",
    "    for filename in filenames:\n",
    "        print(os.path.join(dirname, filename))"
   ]
  },
  {
   "cell_type": "markdown",
   "metadata": {},
   "source": [
    "# Import Necessary Libraries and Data Loading"
   ]
  },
  {
   "cell_type": "code",
   "execution_count": 4,
   "metadata": {
    "execution": {
     "iopub.execute_input": "2024-11-09T05:29:58.256957Z",
     "iopub.status.busy": "2024-11-09T05:29:58.256514Z",
     "iopub.status.idle": "2024-11-09T05:30:10.429551Z",
     "shell.execute_reply": "2024-11-09T05:30:10.428527Z",
     "shell.execute_reply.started": "2024-11-09T05:29:58.256908Z"
    },
    "trusted": true
   },
   "outputs": [],
   "source": [
    "import pandas as pd\n",
    "import numpy as np\n",
    "import tensorflow as tf\n",
    "from tensorflow.keras.preprocessing.text import Tokenizer\n",
    "from tensorflow.keras.preprocessing.sequence import pad_sequences\n",
    "from tensorflow.keras.models import Model\n",
    "from tensorflow.keras.layers import Embedding, Bidirectional, LSTM, Dense, Dropout, Conv1D, MaxPooling1D, GlobalMaxPooling1D, Input\n",
    "from sklearn.preprocessing import LabelEncoder\n",
    "from sklearn.model_selection import train_test_split\n",
    "from sklearn.utils import class_weight\n",
    "from tensorflow.keras.callbacks import ReduceLROnPlateau, EarlyStopping\n",
    "\n",
    "# Load the dataset\n",
    "train_data_path = '/kaggle/input/chipsal-2025-t1/SubTask-A-train.csv'\n",
    "test_data_path = '/kaggle/input/chipsal-2025-t1/Task-A(indextext)test.csv'\n",
    "\n",
    "train_df = pd.read_csv(train_data_path)\n",
    "test_df = pd.read_csv(test_data_path)\n"
   ]
  },
  {
   "cell_type": "markdown",
   "metadata": {},
   "source": [
    "# Simple Data Preprocessing"
   ]
  },
  {
   "cell_type": "code",
   "execution_count": 5,
   "metadata": {
    "execution": {
     "iopub.execute_input": "2024-11-09T05:30:10.431474Z",
     "iopub.status.busy": "2024-11-09T05:30:10.431020Z",
     "iopub.status.idle": "2024-11-09T05:30:10.462914Z",
     "shell.execute_reply": "2024-11-09T05:30:10.461809Z",
     "shell.execute_reply.started": "2024-11-09T05:30:10.431425Z"
    },
    "trusted": true
   },
   "outputs": [],
   "source": [
    "# Preprocess data\n",
    "text_column = 'text'\n",
    "label_column = 'label'\n",
    "train_df[text_column] = train_df[text_column].fillna('')\n",
    "test_df[text_column] = test_df[text_column].fillna('')"
   ]
  },
  {
   "cell_type": "markdown",
   "metadata": {},
   "source": [
    "# Tokenization"
   ]
  },
  {
   "cell_type": "code",
   "execution_count": 6,
   "metadata": {
    "execution": {
     "iopub.execute_input": "2024-11-09T05:30:10.466721Z",
     "iopub.status.busy": "2024-11-09T05:30:10.465784Z",
     "iopub.status.idle": "2024-11-09T05:30:16.018120Z",
     "shell.execute_reply": "2024-11-09T05:30:16.017081Z",
     "shell.execute_reply.started": "2024-11-09T05:30:10.466667Z"
    },
    "trusted": true
   },
   "outputs": [],
   "source": [
    "# Tokenization\n",
    "max_vocab_size = 10000\n",
    "max_sequence_length = 100\n",
    "\n",
    "tokenizer = Tokenizer(num_words=max_vocab_size, oov_token=\"<OOV>\")\n",
    "tokenizer.fit_on_texts(train_df[text_column])\n",
    "\n",
    "X_train = tokenizer.texts_to_sequences(train_df[text_column])\n",
    "X_test = tokenizer.texts_to_sequences(test_df[text_column])\n",
    "X_train = pad_sequences(X_train, maxlen=max_sequence_length, padding='post', truncating='post')\n",
    "X_test = pad_sequences(X_test, maxlen=max_sequence_length, padding='post', truncating='post')"
   ]
  },
  {
   "cell_type": "code",
   "execution_count": 7,
   "metadata": {
    "execution": {
     "iopub.execute_input": "2024-11-09T05:30:16.019798Z",
     "iopub.status.busy": "2024-11-09T05:30:16.019451Z",
     "iopub.status.idle": "2024-11-09T05:30:16.032193Z",
     "shell.execute_reply": "2024-11-09T05:30:16.031040Z",
     "shell.execute_reply.started": "2024-11-09T05:30:16.019763Z"
    },
    "trusted": true
   },
   "outputs": [],
   "source": [
    "# Label Encoding\n",
    "label_encoder = LabelEncoder()\n",
    "y_train = label_encoder.fit_transform(train_df[label_column])"
   ]
  },
  {
   "cell_type": "markdown",
   "metadata": {},
   "source": [
    "# Data Splitting"
   ]
  },
  {
   "cell_type": "code",
   "execution_count": 8,
   "metadata": {
    "execution": {
     "iopub.execute_input": "2024-11-09T05:30:16.034061Z",
     "iopub.status.busy": "2024-11-09T05:30:16.033641Z",
     "iopub.status.idle": "2024-11-09T05:30:16.064020Z",
     "shell.execute_reply": "2024-11-09T05:30:16.062883Z",
     "shell.execute_reply.started": "2024-11-09T05:30:16.033984Z"
    },
    "trusted": true
   },
   "outputs": [],
   "source": [
    "# Train-validation split\n",
    "X_train, X_val, y_train, y_val = train_test_split(X_train, y_train, test_size=0.2, random_state=42)"
   ]
  },
  {
   "cell_type": "code",
   "execution_count": 9,
   "metadata": {
    "execution": {
     "iopub.execute_input": "2024-11-09T05:30:16.065666Z",
     "iopub.status.busy": "2024-11-09T05:30:16.065326Z",
     "iopub.status.idle": "2024-11-09T05:30:16.084787Z",
     "shell.execute_reply": "2024-11-09T05:30:16.083776Z",
     "shell.execute_reply.started": "2024-11-09T05:30:16.065631Z"
    },
    "trusted": true
   },
   "outputs": [],
   "source": [
    "# Compute class weights\n",
    "class_weights = class_weight.compute_class_weight('balanced', classes=np.unique(y_train), y=y_train)\n",
    "class_weights = {i: class_weights[i] for i in range(len(class_weights))}"
   ]
  },
  {
   "cell_type": "markdown",
   "metadata": {},
   "source": [
    "# Model (CNN+BiLSTM) Definition"
   ]
  },
  {
   "cell_type": "code",
   "execution_count": 10,
   "metadata": {
    "execution": {
     "iopub.execute_input": "2024-11-09T05:30:16.087211Z",
     "iopub.status.busy": "2024-11-09T05:30:16.086707Z",
     "iopub.status.idle": "2024-11-09T05:30:16.294500Z",
     "shell.execute_reply": "2024-11-09T05:30:16.293240Z",
     "shell.execute_reply.started": "2024-11-09T05:30:16.087161Z"
    },
    "trusted": true
   },
   "outputs": [],
   "source": [
    "# Define the Hybrid Model\n",
    "embedding_dim = 128\n",
    "\n",
    "# Input layer\n",
    "input_layer = Input(shape=(max_sequence_length,))\n",
    "\n",
    "# CNN Branch\n",
    "cnn_layer = Embedding(input_dim=max_vocab_size, output_dim=embedding_dim)(input_layer)\n",
    "cnn_layer = Conv1D(filters=64, kernel_size=5, activation='relu')(cnn_layer)\n",
    "cnn_layer = MaxPooling1D(pool_size=2)(cnn_layer)\n",
    "cnn_layer = GlobalMaxPooling1D()(cnn_layer)\n",
    "\n",
    "# BiLSTM Branch\n",
    "lstm_layer = Embedding(input_dim=max_vocab_size, output_dim=embedding_dim)(input_layer)\n",
    "lstm_layer = Bidirectional(LSTM(64, return_sequences=False))(lstm_layer)\n",
    "\n",
    "# Merge both branches\n",
    "merged = tf.keras.layers.concatenate([cnn_layer, lstm_layer])\n",
    "\n",
    "# Dense layers\n",
    "dense_layer = Dense(64, activation='relu')(merged)\n",
    "dense_layer = Dropout(0.5)(dense_layer)\n",
    "output_layer = Dense(len(np.unique(y_train)), activation='softmax')(dense_layer)  # Number of classes\n",
    "\n",
    "# Create model\n",
    "model = Model(inputs=input_layer, outputs=output_layer)"
   ]
  },
  {
   "cell_type": "code",
   "execution_count": 11,
   "metadata": {
    "execution": {
     "iopub.execute_input": "2024-11-09T05:30:16.296201Z",
     "iopub.status.busy": "2024-11-09T05:30:16.295836Z",
     "iopub.status.idle": "2024-11-09T05:30:16.312259Z",
     "shell.execute_reply": "2024-11-09T05:30:16.311089Z",
     "shell.execute_reply.started": "2024-11-09T05:30:16.296164Z"
    },
    "trusted": true
   },
   "outputs": [],
   "source": [
    "# Compile the model\n",
    "optimizer = tf.keras.optimizers.Adam(learning_rate=1e-4)\n",
    "model.compile(loss='sparse_categorical_crossentropy', optimizer=optimizer, metrics=['accuracy'])"
   ]
  },
  {
   "cell_type": "code",
   "execution_count": 12,
   "metadata": {
    "execution": {
     "iopub.execute_input": "2024-11-09T05:30:16.315905Z",
     "iopub.status.busy": "2024-11-09T05:30:16.315529Z",
     "iopub.status.idle": "2024-11-09T05:30:16.320877Z",
     "shell.execute_reply": "2024-11-09T05:30:16.319700Z",
     "shell.execute_reply.started": "2024-11-09T05:30:16.315857Z"
    },
    "trusted": true
   },
   "outputs": [],
   "source": [
    "# Callbacks\n",
    "reduce_lr = ReduceLROnPlateau(monitor='val_loss', factor=0.5, patience=2, min_lr=1e-6, verbose=1)"
   ]
  },
  {
   "cell_type": "markdown",
   "metadata": {},
   "source": [
    "# Model Train"
   ]
  },
  {
   "cell_type": "code",
   "execution_count": 13,
   "metadata": {
    "execution": {
     "iopub.execute_input": "2024-11-09T05:30:16.322584Z",
     "iopub.status.busy": "2024-11-09T05:30:16.322209Z",
     "iopub.status.idle": "2024-11-09T07:00:00.551500Z",
     "shell.execute_reply": "2024-11-09T07:00:00.550180Z",
     "shell.execute_reply.started": "2024-11-09T05:30:16.322522Z"
    },
    "trusted": true
   },
   "outputs": [
    {
     "name": "stdout",
     "output_type": "stream",
     "text": [
      "Epoch 1/45\n",
      "\u001b[1m1311/1311\u001b[0m \u001b[32m━━━━━━━━━━━━━━━━━━━━\u001b[0m\u001b[37m\u001b[0m \u001b[1m114s\u001b[0m 84ms/step - accuracy: 0.6281 - loss: 0.9890 - val_accuracy: 0.9754 - val_loss: 0.0861 - learning_rate: 1.0000e-04\n",
      "Epoch 2/45\n",
      "\u001b[1m1311/1311\u001b[0m \u001b[32m━━━━━━━━━━━━━━━━━━━━\u001b[0m\u001b[37m\u001b[0m \u001b[1m108s\u001b[0m 83ms/step - accuracy: 0.9812 - loss: 0.0928 - val_accuracy: 0.9906 - val_loss: 0.0364 - learning_rate: 1.0000e-04\n",
      "Epoch 3/45\n",
      "\u001b[1m1311/1311\u001b[0m \u001b[32m━━━━━━━━━━━━━━━━━━━━\u001b[0m\u001b[37m\u001b[0m \u001b[1m142s\u001b[0m 83ms/step - accuracy: 0.9893 - loss: 0.0470 - val_accuracy: 0.9905 - val_loss: 0.0363 - learning_rate: 1.0000e-04\n",
      "Epoch 4/45\n",
      "\u001b[1m1311/1311\u001b[0m \u001b[32m━━━━━━━━━━━━━━━━━━━━\u001b[0m\u001b[37m\u001b[0m \u001b[1m141s\u001b[0m 83ms/step - accuracy: 0.9943 - loss: 0.0273 - val_accuracy: 0.9795 - val_loss: 0.0639 - learning_rate: 1.0000e-04\n",
      "Epoch 5/45\n",
      "\u001b[1m1311/1311\u001b[0m \u001b[32m━━━━━━━━━━━━━━━━━━━━\u001b[0m\u001b[37m\u001b[0m \u001b[1m109s\u001b[0m 83ms/step - accuracy: 0.9951 - loss: 0.0228 - val_accuracy: 0.9941 - val_loss: 0.0231 - learning_rate: 1.0000e-04\n",
      "Epoch 6/45\n",
      "\u001b[1m1311/1311\u001b[0m \u001b[32m━━━━━━━━━━━━━━━━━━━━\u001b[0m\u001b[37m\u001b[0m \u001b[1m109s\u001b[0m 83ms/step - accuracy: 0.9969 - loss: 0.0125 - val_accuracy: 0.9943 - val_loss: 0.0209 - learning_rate: 1.0000e-04\n",
      "Epoch 7/45\n",
      "\u001b[1m1311/1311\u001b[0m \u001b[32m━━━━━━━━━━━━━━━━━━━━\u001b[0m\u001b[37m\u001b[0m \u001b[1m109s\u001b[0m 83ms/step - accuracy: 0.9974 - loss: 0.0093 - val_accuracy: 0.9932 - val_loss: 0.0253 - learning_rate: 1.0000e-04\n",
      "Epoch 8/45\n",
      "\u001b[1m1311/1311\u001b[0m \u001b[32m━━━━━━━━━━━━━━━━━━━━\u001b[0m\u001b[37m\u001b[0m \u001b[1m0s\u001b[0m 79ms/step - accuracy: 0.9975 - loss: 0.0087\n",
      "Epoch 8: ReduceLROnPlateau reducing learning rate to 4.999999873689376e-05.\n",
      "\u001b[1m1311/1311\u001b[0m \u001b[32m━━━━━━━━━━━━━━━━━━━━\u001b[0m\u001b[37m\u001b[0m \u001b[1m109s\u001b[0m 83ms/step - accuracy: 0.9975 - loss: 0.0087 - val_accuracy: 0.9930 - val_loss: 0.0236 - learning_rate: 1.0000e-04\n",
      "Epoch 9/45\n",
      "\u001b[1m1311/1311\u001b[0m \u001b[32m━━━━━━━━━━━━━━━━━━━━\u001b[0m\u001b[37m\u001b[0m \u001b[1m109s\u001b[0m 83ms/step - accuracy: 0.9983 - loss: 0.0057 - val_accuracy: 0.9942 - val_loss: 0.0243 - learning_rate: 5.0000e-05\n",
      "Epoch 10/45\n",
      "\u001b[1m1311/1311\u001b[0m \u001b[32m━━━━━━━━━━━━━━━━━━━━\u001b[0m\u001b[37m\u001b[0m \u001b[1m0s\u001b[0m 79ms/step - accuracy: 0.9989 - loss: 0.0049\n",
      "Epoch 10: ReduceLROnPlateau reducing learning rate to 2.499999936844688e-05.\n",
      "\u001b[1m1311/1311\u001b[0m \u001b[32m━━━━━━━━━━━━━━━━━━━━\u001b[0m\u001b[37m\u001b[0m \u001b[1m142s\u001b[0m 84ms/step - accuracy: 0.9989 - loss: 0.0049 - val_accuracy: 0.9939 - val_loss: 0.0271 - learning_rate: 5.0000e-05\n",
      "Epoch 11/45\n",
      "\u001b[1m1311/1311\u001b[0m \u001b[32m━━━━━━━━━━━━━━━━━━━━\u001b[0m\u001b[37m\u001b[0m \u001b[1m141s\u001b[0m 83ms/step - accuracy: 0.9990 - loss: 0.0044 - val_accuracy: 0.9935 - val_loss: 0.0235 - learning_rate: 2.5000e-05\n",
      "Epoch 12/45\n",
      "\u001b[1m1311/1311\u001b[0m \u001b[32m━━━━━━━━━━━━━━━━━━━━\u001b[0m\u001b[37m\u001b[0m \u001b[1m0s\u001b[0m 79ms/step - accuracy: 0.9990 - loss: 0.0032\n",
      "Epoch 12: ReduceLROnPlateau reducing learning rate to 1.249999968422344e-05.\n",
      "\u001b[1m1311/1311\u001b[0m \u001b[32m━━━━━━━━━━━━━━━━━━━━\u001b[0m\u001b[37m\u001b[0m \u001b[1m109s\u001b[0m 83ms/step - accuracy: 0.9990 - loss: 0.0032 - val_accuracy: 0.9935 - val_loss: 0.0243 - learning_rate: 2.5000e-05\n",
      "Epoch 13/45\n",
      "\u001b[1m1311/1311\u001b[0m \u001b[32m━━━━━━━━━━━━━━━━━━━━\u001b[0m\u001b[37m\u001b[0m \u001b[1m110s\u001b[0m 84ms/step - accuracy: 0.9992 - loss: 0.0028 - val_accuracy: 0.9941 - val_loss: 0.0252 - learning_rate: 1.2500e-05\n",
      "Epoch 14/45\n",
      "\u001b[1m1311/1311\u001b[0m \u001b[32m━━━━━━━━━━━━━━━━━━━━\u001b[0m\u001b[37m\u001b[0m \u001b[1m0s\u001b[0m 79ms/step - accuracy: 0.9990 - loss: 0.0031\n",
      "Epoch 14: ReduceLROnPlateau reducing learning rate to 6.24999984211172e-06.\n",
      "\u001b[1m1311/1311\u001b[0m \u001b[32m━━━━━━━━━━━━━━━━━━━━\u001b[0m\u001b[37m\u001b[0m \u001b[1m142s\u001b[0m 84ms/step - accuracy: 0.9990 - loss: 0.0031 - val_accuracy: 0.9937 - val_loss: 0.0272 - learning_rate: 1.2500e-05\n",
      "Epoch 15/45\n",
      "\u001b[1m1311/1311\u001b[0m \u001b[32m━━━━━━━━━━━━━━━━━━━━\u001b[0m\u001b[37m\u001b[0m \u001b[1m141s\u001b[0m 84ms/step - accuracy: 0.9990 - loss: 0.0034 - val_accuracy: 0.9938 - val_loss: 0.0264 - learning_rate: 6.2500e-06\n",
      "Epoch 16/45\n",
      "\u001b[1m1311/1311\u001b[0m \u001b[32m━━━━━━━━━━━━━━━━━━━━\u001b[0m\u001b[37m\u001b[0m \u001b[1m0s\u001b[0m 79ms/step - accuracy: 0.9987 - loss: 0.0044\n",
      "Epoch 16: ReduceLROnPlateau reducing learning rate to 3.12499992105586e-06.\n",
      "\u001b[1m1311/1311\u001b[0m \u001b[32m━━━━━━━━━━━━━━━━━━━━\u001b[0m\u001b[37m\u001b[0m \u001b[1m110s\u001b[0m 84ms/step - accuracy: 0.9987 - loss: 0.0044 - val_accuracy: 0.9939 - val_loss: 0.0268 - learning_rate: 6.2500e-06\n",
      "Epoch 17/45\n",
      "\u001b[1m1311/1311\u001b[0m \u001b[32m━━━━━━━━━━━━━━━━━━━━\u001b[0m\u001b[37m\u001b[0m \u001b[1m110s\u001b[0m 84ms/step - accuracy: 0.9993 - loss: 0.0027 - val_accuracy: 0.9937 - val_loss: 0.0263 - learning_rate: 3.1250e-06\n",
      "Epoch 18/45\n",
      "\u001b[1m1311/1311\u001b[0m \u001b[32m━━━━━━━━━━━━━━━━━━━━\u001b[0m\u001b[37m\u001b[0m \u001b[1m0s\u001b[0m 79ms/step - accuracy: 0.9993 - loss: 0.0036\n",
      "Epoch 18: ReduceLROnPlateau reducing learning rate to 1.56249996052793e-06.\n",
      "\u001b[1m1311/1311\u001b[0m \u001b[32m━━━━━━━━━━━━━━━━━━━━\u001b[0m\u001b[37m\u001b[0m \u001b[1m141s\u001b[0m 84ms/step - accuracy: 0.9993 - loss: 0.0036 - val_accuracy: 0.9942 - val_loss: 0.0267 - learning_rate: 3.1250e-06\n",
      "Epoch 19/45\n",
      "\u001b[1m1311/1311\u001b[0m \u001b[32m━━━━━━━━━━━━━━━━━━━━\u001b[0m\u001b[37m\u001b[0m \u001b[1m110s\u001b[0m 84ms/step - accuracy: 0.9992 - loss: 0.0033 - val_accuracy: 0.9941 - val_loss: 0.0265 - learning_rate: 1.5625e-06\n",
      "Epoch 20/45\n",
      "\u001b[1m1311/1311\u001b[0m \u001b[32m━━━━━━━━━━━━━━━━━━━━\u001b[0m\u001b[37m\u001b[0m \u001b[1m0s\u001b[0m 79ms/step - accuracy: 0.9991 - loss: 0.0027\n",
      "Epoch 20: ReduceLROnPlateau reducing learning rate to 1e-06.\n",
      "\u001b[1m1311/1311\u001b[0m \u001b[32m━━━━━━━━━━━━━━━━━━━━\u001b[0m\u001b[37m\u001b[0m \u001b[1m110s\u001b[0m 84ms/step - accuracy: 0.9991 - loss: 0.0027 - val_accuracy: 0.9940 - val_loss: 0.0266 - learning_rate: 1.5625e-06\n",
      "Epoch 21/45\n",
      "\u001b[1m1311/1311\u001b[0m \u001b[32m━━━━━━━━━━━━━━━━━━━━\u001b[0m\u001b[37m\u001b[0m \u001b[1m110s\u001b[0m 84ms/step - accuracy: 0.9991 - loss: 0.0033 - val_accuracy: 0.9940 - val_loss: 0.0266 - learning_rate: 1.0000e-06\n",
      "Epoch 22/45\n",
      "\u001b[1m1311/1311\u001b[0m \u001b[32m━━━━━━━━━━━━━━━━━━━━\u001b[0m\u001b[37m\u001b[0m \u001b[1m110s\u001b[0m 84ms/step - accuracy: 0.9987 - loss: 0.0031 - val_accuracy: 0.9940 - val_loss: 0.0265 - learning_rate: 1.0000e-06\n",
      "Epoch 23/45\n",
      "\u001b[1m1311/1311\u001b[0m \u001b[32m━━━━━━━━━━━━━━━━━━━━\u001b[0m\u001b[37m\u001b[0m \u001b[1m109s\u001b[0m 83ms/step - accuracy: 0.9993 - loss: 0.0026 - val_accuracy: 0.9941 - val_loss: 0.0267 - learning_rate: 1.0000e-06\n",
      "Epoch 24/45\n",
      "\u001b[1m1311/1311\u001b[0m \u001b[32m━━━━━━━━━━━━━━━━━━━━\u001b[0m\u001b[37m\u001b[0m \u001b[1m110s\u001b[0m 84ms/step - accuracy: 0.9994 - loss: 0.0024 - val_accuracy: 0.9940 - val_loss: 0.0268 - learning_rate: 1.0000e-06\n",
      "Epoch 25/45\n",
      "\u001b[1m1311/1311\u001b[0m \u001b[32m━━━━━━━━━━━━━━━━━━━━\u001b[0m\u001b[37m\u001b[0m \u001b[1m111s\u001b[0m 85ms/step - accuracy: 0.9991 - loss: 0.0033 - val_accuracy: 0.9940 - val_loss: 0.0269 - learning_rate: 1.0000e-06\n",
      "Epoch 26/45\n",
      "\u001b[1m1311/1311\u001b[0m \u001b[32m━━━━━━━━━━━━━━━━━━━━\u001b[0m\u001b[37m\u001b[0m \u001b[1m110s\u001b[0m 84ms/step - accuracy: 0.9994 - loss: 0.0023 - val_accuracy: 0.9939 - val_loss: 0.0267 - learning_rate: 1.0000e-06\n",
      "Epoch 27/45\n",
      "\u001b[1m1311/1311\u001b[0m \u001b[32m━━━━━━━━━━━━━━━━━━━━\u001b[0m\u001b[37m\u001b[0m \u001b[1m110s\u001b[0m 84ms/step - accuracy: 0.9988 - loss: 0.0032 - val_accuracy: 0.9939 - val_loss: 0.0267 - learning_rate: 1.0000e-06\n",
      "Epoch 28/45\n",
      "\u001b[1m1311/1311\u001b[0m \u001b[32m━━━━━━━━━━━━━━━━━━━━\u001b[0m\u001b[37m\u001b[0m \u001b[1m110s\u001b[0m 84ms/step - accuracy: 0.9988 - loss: 0.0035 - val_accuracy: 0.9940 - val_loss: 0.0265 - learning_rate: 1.0000e-06\n",
      "Epoch 29/45\n",
      "\u001b[1m1311/1311\u001b[0m \u001b[32m━━━━━━━━━━━━━━━━━━━━\u001b[0m\u001b[37m\u001b[0m \u001b[1m110s\u001b[0m 84ms/step - accuracy: 0.9989 - loss: 0.0034 - val_accuracy: 0.9939 - val_loss: 0.0266 - learning_rate: 1.0000e-06\n",
      "Epoch 30/45\n",
      "\u001b[1m1311/1311\u001b[0m \u001b[32m━━━━━━━━━━━━━━━━━━━━\u001b[0m\u001b[37m\u001b[0m \u001b[1m110s\u001b[0m 84ms/step - accuracy: 0.9986 - loss: 0.0032 - val_accuracy: 0.9939 - val_loss: 0.0267 - learning_rate: 1.0000e-06\n",
      "Epoch 31/45\n",
      "\u001b[1m1311/1311\u001b[0m \u001b[32m━━━━━━━━━━━━━━━━━━━━\u001b[0m\u001b[37m\u001b[0m \u001b[1m141s\u001b[0m 83ms/step - accuracy: 0.9988 - loss: 0.0032 - val_accuracy: 0.9939 - val_loss: 0.0268 - learning_rate: 1.0000e-06\n",
      "Epoch 32/45\n",
      "\u001b[1m1311/1311\u001b[0m \u001b[32m━━━━━━━━━━━━━━━━━━━━\u001b[0m\u001b[37m\u001b[0m \u001b[1m142s\u001b[0m 84ms/step - accuracy: 0.9989 - loss: 0.0030 - val_accuracy: 0.9939 - val_loss: 0.0269 - learning_rate: 1.0000e-06\n",
      "Epoch 33/45\n",
      "\u001b[1m1311/1311\u001b[0m \u001b[32m━━━━━━━━━━━━━━━━━━━━\u001b[0m\u001b[37m\u001b[0m \u001b[1m110s\u001b[0m 84ms/step - accuracy: 0.9990 - loss: 0.0027 - val_accuracy: 0.9937 - val_loss: 0.0270 - learning_rate: 1.0000e-06\n",
      "Epoch 34/45\n",
      "\u001b[1m1311/1311\u001b[0m \u001b[32m━━━━━━━━━━━━━━━━━━━━\u001b[0m\u001b[37m\u001b[0m \u001b[1m142s\u001b[0m 83ms/step - accuracy: 0.9992 - loss: 0.0026 - val_accuracy: 0.9940 - val_loss: 0.0272 - learning_rate: 1.0000e-06\n",
      "Epoch 35/45\n",
      "\u001b[1m1311/1311\u001b[0m \u001b[32m━━━━━━━━━━━━━━━━━━━━\u001b[0m\u001b[37m\u001b[0m \u001b[1m142s\u001b[0m 83ms/step - accuracy: 0.9988 - loss: 0.0038 - val_accuracy: 0.9938 - val_loss: 0.0270 - learning_rate: 1.0000e-06\n",
      "Epoch 36/45\n",
      "\u001b[1m1311/1311\u001b[0m \u001b[32m━━━━━━━━━━━━━━━━━━━━\u001b[0m\u001b[37m\u001b[0m \u001b[1m109s\u001b[0m 83ms/step - accuracy: 0.9989 - loss: 0.0029 - val_accuracy: 0.9937 - val_loss: 0.0269 - learning_rate: 1.0000e-06\n",
      "Epoch 37/45\n",
      "\u001b[1m1311/1311\u001b[0m \u001b[32m━━━━━━━━━━━━━━━━━━━━\u001b[0m\u001b[37m\u001b[0m \u001b[1m109s\u001b[0m 83ms/step - accuracy: 0.9990 - loss: 0.0031 - val_accuracy: 0.9937 - val_loss: 0.0269 - learning_rate: 1.0000e-06\n",
      "Epoch 38/45\n",
      "\u001b[1m1311/1311\u001b[0m \u001b[32m━━━━━━━━━━━━━━━━━━━━\u001b[0m\u001b[37m\u001b[0m \u001b[1m142s\u001b[0m 83ms/step - accuracy: 0.9989 - loss: 0.0035 - val_accuracy: 0.9938 - val_loss: 0.0268 - learning_rate: 1.0000e-06\n",
      "Epoch 39/45\n",
      "\u001b[1m1311/1311\u001b[0m \u001b[32m━━━━━━━━━━━━━━━━━━━━\u001b[0m\u001b[37m\u001b[0m \u001b[1m141s\u001b[0m 83ms/step - accuracy: 0.9990 - loss: 0.0032 - val_accuracy: 0.9937 - val_loss: 0.0270 - learning_rate: 1.0000e-06\n",
      "Epoch 40/45\n",
      "\u001b[1m1311/1311\u001b[0m \u001b[32m━━━━━━━━━━━━━━━━━━━━\u001b[0m\u001b[37m\u001b[0m \u001b[1m108s\u001b[0m 83ms/step - accuracy: 0.9989 - loss: 0.0031 - val_accuracy: 0.9937 - val_loss: 0.0271 - learning_rate: 1.0000e-06\n",
      "Epoch 41/45\n",
      "\u001b[1m1311/1311\u001b[0m \u001b[32m━━━━━━━━━━━━━━━━━━━━\u001b[0m\u001b[37m\u001b[0m \u001b[1m109s\u001b[0m 83ms/step - accuracy: 0.9985 - loss: 0.0038 - val_accuracy: 0.9938 - val_loss: 0.0271 - learning_rate: 1.0000e-06\n",
      "Epoch 42/45\n",
      "\u001b[1m1311/1311\u001b[0m \u001b[32m━━━━━━━━━━━━━━━━━━━━\u001b[0m\u001b[37m\u001b[0m \u001b[1m141s\u001b[0m 83ms/step - accuracy: 0.9990 - loss: 0.0031 - val_accuracy: 0.9939 - val_loss: 0.0271 - learning_rate: 1.0000e-06\n",
      "Epoch 43/45\n",
      "\u001b[1m1311/1311\u001b[0m \u001b[32m━━━━━━━━━━━━━━━━━━━━\u001b[0m\u001b[37m\u001b[0m \u001b[1m109s\u001b[0m 83ms/step - accuracy: 0.9994 - loss: 0.0024 - val_accuracy: 0.9939 - val_loss: 0.0269 - learning_rate: 1.0000e-06\n",
      "Epoch 44/45\n",
      "\u001b[1m1311/1311\u001b[0m \u001b[32m━━━━━━━━━━━━━━━━━━━━\u001b[0m\u001b[37m\u001b[0m \u001b[1m109s\u001b[0m 83ms/step - accuracy: 0.9989 - loss: 0.0035 - val_accuracy: 0.9939 - val_loss: 0.0270 - learning_rate: 1.0000e-06\n",
      "Epoch 45/45\n",
      "\u001b[1m1311/1311\u001b[0m \u001b[32m━━━━━━━━━━━━━━━━━━━━\u001b[0m\u001b[37m\u001b[0m \u001b[1m109s\u001b[0m 83ms/step - accuracy: 0.9992 - loss: 0.0026 - val_accuracy: 0.9939 - val_loss: 0.0272 - learning_rate: 1.0000e-06\n"
     ]
    }
   ],
   "source": [
    "# Train the model\n",
    "batch_size = 32\n",
    "epochs = 45\n",
    "\n",
    "history = model.fit(X_train, y_train, validation_data=(X_val, y_val), \n",
    "                    batch_size=batch_size, epochs=epochs, \n",
    "                    class_weight=class_weights,\n",
    "                    callbacks=[reduce_lr])\n"
   ]
  },
  {
   "cell_type": "code",
   "execution_count": null,
   "metadata": {},
   "outputs": [],
   "source": []
  },
  {
   "cell_type": "code",
   "execution_count": 14,
   "metadata": {
    "execution": {
     "iopub.execute_input": "2024-11-09T07:00:00.554464Z",
     "iopub.status.busy": "2024-11-09T07:00:00.553933Z",
     "iopub.status.idle": "2024-11-09T07:00:08.837431Z",
     "shell.execute_reply": "2024-11-09T07:00:08.836233Z",
     "shell.execute_reply.started": "2024-11-09T07:00:00.554408Z"
    },
    "trusted": true
   },
   "outputs": [
    {
     "name": "stdout",
     "output_type": "stream",
     "text": [
      "\u001b[1m352/352\u001b[0m \u001b[32m━━━━━━━━━━━━━━━━━━━━\u001b[0m\u001b[37m\u001b[0m \u001b[1m8s\u001b[0m 22ms/step\n"
     ]
    }
   ],
   "source": [
    "# Predict the test data\n",
    "y_pred = np.argmax(model.predict(X_test), axis=1)\n",
    "\n",
    "# Create submission file\n",
    "submission_df = pd.DataFrame({'index': test_df['index'], 'prediction': y_pred})\n",
    "submission_df = submission_df.sort_values(by='index')"
   ]
  },
  {
   "cell_type": "code",
   "execution_count": 16,
   "metadata": {
    "execution": {
     "iopub.execute_input": "2024-11-09T07:00:31.417783Z",
     "iopub.status.busy": "2024-11-09T07:00:31.417372Z",
     "iopub.status.idle": "2024-11-09T07:00:32.028807Z",
     "shell.execute_reply": "2024-11-09T07:00:32.027708Z",
     "shell.execute_reply.started": "2024-11-09T07:00:31.417743Z"
    },
    "trusted": true
   },
   "outputs": [
    {
     "name": "stdout",
     "output_type": "stream",
     "text": [
      "Submission JSON and ZIP created successfully.\n"
     ]
    }
   ],
   "source": [
    "import json\n",
    "# Write the submission to JSON in the required format\n",
    "submission_json_path = 'submission_CNN_BiLSTM.json'\n",
    "with open(submission_json_path, 'w') as f:\n",
    "    for _, row in submission_df.iterrows():\n",
    "        json_line = json.dumps({'index': int(row['index']), 'prediction': int(row['prediction'])})\n",
    "        f.write(json_line + '\\n')\n",
    "\n",
    "# Zip the JSON file\n",
    "import zipfile\n",
    "with zipfile.ZipFile('submission_CNN_BiLSTM_45.zip', 'w') as zipf:\n",
    "    zipf.write(submission_json_path)\n",
    "\n",
    "print(\"Submission JSON and ZIP created successfully.\")"
   ]
  }
 ],
 "metadata": {
  "kaggle": {
   "accelerator": "none",
   "dataSources": [
    {
     "datasetId": 5717139,
     "sourceId": 9835042,
     "sourceType": "datasetVersion"
    }
   ],
   "dockerImageVersionId": 30786,
   "isGpuEnabled": false,
   "isInternetEnabled": true,
   "language": "python",
   "sourceType": "notebook"
  },
  "kernelspec": {
   "display_name": "Python 3",
   "language": "python",
   "name": "python3"
  },
  "language_info": {
   "codemirror_mode": {
    "name": "ipython",
    "version": 3
   },
   "file_extension": ".py",
   "mimetype": "text/x-python",
   "name": "python",
   "nbconvert_exporter": "python",
   "pygments_lexer": "ipython3",
   "version": "3.10.14"
  }
 },
 "nbformat": 4,
 "nbformat_minor": 4
}
